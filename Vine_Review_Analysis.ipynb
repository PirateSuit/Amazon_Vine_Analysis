{
  "nbformat": 4,
  "nbformat_minor": 0,
  "metadata": {
    "colab": {
      "name": "Vine_Review_Analysis.ipynb",
      "provenance": [],
      "collapsed_sections": []
    },
    "kernelspec": {
      "name": "python3",
      "display_name": "Python 3"
    },
    "language_info": {
      "name": "python"
    }
  },
  "cells": [
    {
      "cell_type": "code",
      "metadata": {
        "colab": {
          "base_uri": "https://localhost:8080/"
        },
        "id": "U5N2fHZjCL7O",
        "outputId": "00eeaeac-d35d-41b1-90a2-60b7163dfbb4"
      },
      "source": [
        "import os\n",
        "# Find the latest version of spark 3.0 from http://www.apache.org/dist/spark/ and enter as the spark version\n",
        "# For example:\n",
        "# spark_version = 'spark-3.0.3'\n",
        "spark_version = 'spark-3.2.0'\n",
        "os.environ['SPARK_VERSION']=spark_version\n",
        "\n",
        "# Install Spark and Java\n",
        "!apt-get update\n",
        "!apt-get install openjdk-11-jdk-headless -qq > /dev/null\n",
        "!wget -q http://www.apache.org/dist/spark/$SPARK_VERSION/$SPARK_VERSION-bin-hadoop2.7.tgz\n",
        "!tar xf $SPARK_VERSION-bin-hadoop2.7.tgz\n",
        "!pip install -q findspark\n",
        "\n",
        "# Set Environment Variables\n",
        "import os\n",
        "os.environ[\"JAVA_HOME\"] = \"/usr/lib/jvm/java-11-openjdk-amd64\"\n",
        "os.environ[\"SPARK_HOME\"] = f\"/content/{spark_version}-bin-hadoop2.7\"\n",
        "\n",
        "# Start a SparkSession\n",
        "import findspark\n",
        "findspark.init()"
      ],
      "execution_count": 2,
      "outputs": [
        {
          "output_type": "stream",
          "name": "stdout",
          "text": [
            "\r0% [Working]\r            \rGet:1 https://cloud.r-project.org/bin/linux/ubuntu bionic-cran40/ InRelease [3,626 B]\n",
            "Ign:2 https://developer.download.nvidia.com/compute/cuda/repos/ubuntu1804/x86_64  InRelease\n",
            "Get:3 http://security.ubuntu.com/ubuntu bionic-security InRelease [88.7 kB]\n",
            "Ign:4 https://developer.download.nvidia.com/compute/machine-learning/repos/ubuntu1804/x86_64  InRelease\n",
            "Get:5 https://developer.download.nvidia.com/compute/cuda/repos/ubuntu1804/x86_64  Release [696 B]\n",
            "Hit:6 https://developer.download.nvidia.com/compute/machine-learning/repos/ubuntu1804/x86_64  Release\n",
            "Get:7 https://developer.download.nvidia.com/compute/cuda/repos/ubuntu1804/x86_64  Release.gpg [836 B]\n",
            "Hit:8 http://archive.ubuntu.com/ubuntu bionic InRelease\n",
            "Hit:9 http://ppa.launchpad.net/c2d4u.team/c2d4u4.0+/ubuntu bionic InRelease\n",
            "Get:10 http://archive.ubuntu.com/ubuntu bionic-updates InRelease [88.7 kB]\n",
            "Hit:11 http://ppa.launchpad.net/cran/libgit2/ubuntu bionic InRelease\n",
            "Get:13 https://developer.download.nvidia.com/compute/cuda/repos/ubuntu1804/x86_64  Packages [786 kB]\n",
            "Hit:14 http://ppa.launchpad.net/deadsnakes/ppa/ubuntu bionic InRelease\n",
            "Get:15 http://archive.ubuntu.com/ubuntu bionic-backports InRelease [74.6 kB]\n",
            "Hit:16 http://ppa.launchpad.net/graphics-drivers/ppa/ubuntu bionic InRelease\n",
            "Get:17 http://security.ubuntu.com/ubuntu bionic-security/main amd64 Packages [2,398 kB]\n",
            "Get:18 http://security.ubuntu.com/ubuntu bionic-security/universe amd64 Packages [1,434 kB]\n",
            "Get:19 http://archive.ubuntu.com/ubuntu bionic-updates/main amd64 Packages [2,835 kB]\n",
            "Get:20 http://archive.ubuntu.com/ubuntu bionic-updates/universe amd64 Packages [2,213 kB]\n",
            "Fetched 9,924 kB in 3s (3,034 kB/s)\n",
            "Reading package lists... Done\n"
          ]
        }
      ]
    },
    {
      "cell_type": "code",
      "metadata": {
        "colab": {
          "base_uri": "https://localhost:8080/"
        },
        "id": "qpozbZEQC1A2",
        "outputId": "2a95b602-0af7-4ed1-c4ca-fc7c8e7a1725"
      },
      "source": [
        "# Download the Postgres driver that will allow Spark to interact with Postgres.\n",
        "!wget https://jdbc.postgresql.org/download/postgresql-42.2.16.jar"
      ],
      "execution_count": 3,
      "outputs": [
        {
          "output_type": "stream",
          "name": "stdout",
          "text": [
            "--2021-10-28 19:39:20--  https://jdbc.postgresql.org/download/postgresql-42.2.16.jar\n",
            "Resolving jdbc.postgresql.org (jdbc.postgresql.org)... 72.32.157.228, 2001:4800:3e1:1::228\n",
            "Connecting to jdbc.postgresql.org (jdbc.postgresql.org)|72.32.157.228|:443... connected.\n",
            "HTTP request sent, awaiting response... 200 OK\n",
            "Length: 1002883 (979K) [application/java-archive]\n",
            "Saving to: ‘postgresql-42.2.16.jar’\n",
            "\n",
            "postgresql-42.2.16. 100%[===================>] 979.38K  4.96MB/s    in 0.2s    \n",
            "\n",
            "2021-10-28 19:39:21 (4.96 MB/s) - ‘postgresql-42.2.16.jar’ saved [1002883/1002883]\n",
            "\n"
          ]
        }
      ]
    },
    {
      "cell_type": "code",
      "metadata": {
        "id": "TAwS4q0PC5zC"
      },
      "source": [
        "from pyspark.sql import SparkSession\n",
        "spark = SparkSession.builder.appName(\"M16-Amazon-Challenge\").config(\"spark.driver.extraClassPath\",\"/content/postgresql-42.2.16.jar\").getOrCreate()"
      ],
      "execution_count": 4,
      "outputs": []
    },
    {
      "cell_type": "code",
      "metadata": {
        "colab": {
          "base_uri": "https://localhost:8080/"
        },
        "id": "tlf-loHLC-iw",
        "outputId": "9c78b87f-b63f-4881-9a2c-7c94568810b9"
      },
      "source": [
        "from pyspark import SparkFiles\n",
        "url = \"https://s3.amazonaws.com/amazon-reviews-pds/tsv/amazon_reviews_us_Digital_Video_Games_v1_00.tsv.gz\"\n",
        "spark.sparkContext.addFile(url)\n",
        "df = spark.read.option(\"encoding\", \"UTF-8\").csv(SparkFiles.get(\"\"), sep=\"\\t\", header=True, inferSchema=True)\n",
        "df.show(100)"
      ],
      "execution_count": 5,
      "outputs": [
        {
          "output_type": "stream",
          "name": "stdout",
          "text": [
            "+-----------+-----------+--------------+----------+--------------+--------------------+-------------------+-----------+-------------+-----------+----+-----------------+--------------------+--------------------+-----------+\n",
            "|marketplace|customer_id|     review_id|product_id|product_parent|       product_title|   product_category|star_rating|helpful_votes|total_votes|vine|verified_purchase|     review_headline|         review_body|review_date|\n",
            "+-----------+-----------+--------------+----------+--------------+--------------------+-------------------+-----------+-------------+-----------+----+-----------------+--------------------+--------------------+-----------+\n",
            "|         US|   21269168| RSH1OZ87OYK92|B013PURRZW|     603406193|Madden NFL 16 - X...|Digital_Video_Games|          2|            2|          3|   N|                N|A slight improvem...|I keep buying mad...| 2015-08-31|\n",
            "|         US|     133437|R1WFOQ3N9BO65I|B00F4CEHNK|     341969535| Xbox Live Gift Card|Digital_Video_Games|          5|            0|          0|   N|                Y|          Five Stars|             Awesome| 2015-08-31|\n",
            "|         US|   45765011| R3YOOS71KM5M9|B00DNHLFQA|     951665344|Command & Conquer...|Digital_Video_Games|          5|            0|          0|   N|                Y|Hail to the great...|If you are preppi...| 2015-08-31|\n",
            "|         US|     113118|R3R14UATT3OUFU|B004RMK5QG|     395682204|Playstation Plus ...|Digital_Video_Games|          5|            0|          0|   N|                Y|          Five Stars|             Perfect| 2015-08-31|\n",
            "|         US|   22151364| RV2W9SGDNQA2C|B00G9BNLQE|     640460561|Saints Row IV - E...|Digital_Video_Games|          5|            0|          0|   N|                Y|          Five Stars|            Awesome!| 2015-08-31|\n",
            "|         US|   22151364|R3CFKLIZ0I2KOB|B00IMIL498|     621922192|Double Dragon: Ne...|Digital_Video_Games|          5|            0|          0|   N|                Y|          Five Stars|            Awesome!| 2015-08-31|\n",
            "|         US|   38426028|R1LRYU1V0T3O38|B00S00IJH8|     215163395|              Sims 4|Digital_Video_Games|          4|            0|          0|   N|                Y|i like the new sk...|i like the new sk...| 2015-08-31|\n",
            "|         US|    6057518| R44QKV6FE5CJ2|B004RMK4BC|     384246568|Playstation Netwo...|Digital_Video_Games|          5|            0|          0|   N|                Y|          Five Stars|               Super| 2015-08-31|\n",
            "|         US|   20715661|R2TX1KLPXXXNYS|B00K59HKIQ|     384246568|Playstation Netwo...|Digital_Video_Games|          5|            0|          0|   N|                Y|         Easy & Fast|Excellent, fast a...| 2015-08-31|\n",
            "|         US|   26540306|R1JEEW4C6R89BA|B00K59HKIQ|     384246568|Playstation Netwo...|Digital_Video_Games|          5|            0|          0|   N|                Y|          Five Stars|                  Ok| 2015-08-31|\n",
            "|         US|    8926809|R3B3UHK1FO0ERS|B004774IPU|     151985175|Sid Meier's Civil...|Digital_Video_Games|          1|            0|          0|   N|                N|I am still playin...|As has been writt...| 2015-08-31|\n",
            "|         US|   31525534|R2GVSDHW513SS1|B002LIT9EC|     695277014|Build-a-lot 4: Po...|Digital_Video_Games|          5|            0|          0|   N|                Y|Probably the best...|Probably the best...| 2015-08-31|\n",
            "|         US|   22151364|R1R1NT516PYT73|B008ALUBYQ|     112160022|       Borderlands 2|Digital_Video_Games|          5|            0|          0|   N|                Y|          Five Stars|            Awesome!| 2015-08-31|\n",
            "|         US|   22977584|R3K624QDQKENN9|B010KYDNDG|     835376637|Minecraft for PC/...|Digital_Video_Games|          4|            0|          0|   N|                Y|                 FUN|COOL BUT IT LAGES...| 2015-08-31|\n",
            "|         US|   45765011| R1FOXH7PCJX3V|B008ALUBYQ|     112160022|       Borderlands 2|Digital_Video_Games|          1|            0|          2|   N|                Y|            One Star|Lames purchase I ...| 2015-08-31|\n",
            "|         US|    2239522| RA1246M1OMDWC|B004RMK4P8|     384246568|Playstation Netwo...|Digital_Video_Games|          5|            0|          0|   N|                Y|          Five Stars|               Great| 2015-08-31|\n",
            "|         US|   48805811|R2I9SXWB0PAEKQ|B004RMK5QG|     395682204|Playstation Plus ...|Digital_Video_Games|          5|            0|          0|   N|                Y|          Five Stars|          Awesome!!!| 2015-08-31|\n",
            "|         US|   18646481|R3UGL544NA0G9C|B00BI16Z22|     552981447|Brink of Consciou...|Digital_Video_Games|          4|            0|          0|   N|                Y|       worth playing|pretty good but n...| 2015-08-31|\n",
            "|         US|   10310935|R1CBA4Y92GVAVM|B004VSTQ2A|     232803743|Xbox Live Subscri...|Digital_Video_Games|          5|            0|          0|   N|                Y|          Five Stars|What can I say......| 2015-08-31|\n",
            "|         US|    5587610|R24NEKNR01VEHU|B00GAC1D2G|     384246568|Playstation Netwo...|Digital_Video_Games|          5|            0|          0|   N|                Y|        Just amazing|Very fast to rece...| 2015-08-31|\n",
            "|         US|   24955509|R2EPQGD185FKZR|B008S1P3JG|     186027895|Nat Geo Adventure...|Digital_Video_Games|          5|            0|          1|   N|                Y|Great fun and edu...|      Fun to replay.| 2015-08-31|\n",
            "|         US|    8217034|R17NXVDFTT4BGC|B00GAC1D2G|     384246568|Playstation Netwo...|Digital_Video_Games|          5|            0|          0|   N|                Y|          Five Stars|Got it allmost ri...| 2015-08-31|\n",
            "|         US|   28528650| RJI67QGY95MJH|B004RMK4P8|     384246568|Playstation Netwo...|Digital_Video_Games|          5|            0|          0|   N|                Y|                Nice|                Nice| 2015-08-31|\n",
            "|         US|    2675554|R2PW0GFPCOW91C|B004RMK4BC|     384246568|Playstation Netwo...|Digital_Video_Games|          5|            0|          0|   N|                Y|          Five Stars|fast transaction ...| 2015-08-31|\n",
            "|         US|   22151364|R2NGE0KNGOCBMS|B00AR03O8I|     408713328|           Fable III|Digital_Video_Games|          1|            0|          2|   N|                Y|            One Star|              Gross!| 2015-08-31|\n",
            "|         US|   42489718|R3FXXN2LFLLF49|B004RMK57U|      53534661|Playstation Plus ...|Digital_Video_Games|          5|            0|          0|   N|                N|Game with friends...|PlayStation Plus ...| 2015-08-31|\n",
            "|         US|    1049106|R2XDRIKNRYNIHZ|B00PBHPLII|     958051050|   PES 2015 - Parent|Digital_Video_Games|          1|            0|          0|   N|                Y|            Not good|Not the best grap...| 2015-08-31|\n",
            "|         US|   15825992|R3CU9N7BTPLN56|B00ESN8XPY|     127823947|Might & Magic X L...|Digital_Video_Games|          3|            0|          1|   N|                Y|         Three Stars|Fun throw back, b...| 2015-08-31|\n",
            "|         US|   36660728|R23NS4Q2ULC41G|B00Z7V8HRK|     935763040|Batman: Arkham Kn...|Digital_Video_Games|          5|            0|          0|   N|                Y|        Pure genius.|Pure genius. Ever...| 2015-08-31|\n",
            "|         US|    6506096|R1L8903UCAXF4R|B004RMK4P8|     384246568|Playstation Netwo...|Digital_Video_Games|          5|            0|          0|   N|                Y|          Five Stars|             great！| 2015-08-31|\n",
            "|         US|   16435800|R17ZHKT4J2KA6N|B00F4CFHFC|     341969535| Xbox Live Gift Card|Digital_Video_Games|          1|            0|          0|   N|                N|       Amazon hacked|              Stolen| 2015-08-31|\n",
            "|         US|   33148953|R1MQ1CU269IJN4|B00T8NURF8|     181827382|Star Wars The Old...|Digital_Video_Games|          5|            0|          0|   N|                Y|          Five Stars|Great value, no i...| 2015-08-31|\n",
            "|         US|   22151364| R6MEGF6J8V20K|B00JA9YFVW|      54926259|BlazBlue: Calamit...|Digital_Video_Games|          5|            0|          0|   N|                Y|          Five Stars|            Awesome!| 2015-08-31|\n",
            "|         US|     674551|R1HEHKYDT2ED2D|B00LLIQWKC|     864535992|Destiny - Expansi...|Digital_Video_Games|          5|            0|          1|   N|                Y|Really good game,...|One of the best. ...| 2015-08-31|\n",
            "|         US|    9916944|R2Q3KVJRKDJMDZ|B00MNKZYXI|     955513685|Gears of War Judg...|Digital_Video_Games|          5|            0|          0|   N|                Y|       Totally happy|Love it! Just hea...| 2015-08-31|\n",
            "|         US|     116440| RRJ6KARLSBF1T|B004VSTQ2A|     232803743|Xbox Live Subscri...|Digital_Video_Games|          1|            0|          1|   N|                N|            One Star|               Hello| 2015-08-31|\n",
            "|         US|   22151364| RL0C46TVJHXWW|B00CPC8882|     414001061|Fable DLC Pack [O...|Digital_Video_Games|          1|            0|          0|   N|                Y|            One Star|              Gross!| 2015-08-31|\n",
            "|         US|     714880|R3EXB45L1248O2|B00CQOG8M2|     889790067|The Sims 3 Worlds...|Digital_Video_Games|          5|            0|          0|   N|                Y|          Five Stars|            loved it| 2015-08-31|\n",
            "|         US|    9944948|R1YMHD3XM1VTLE|B004RMK57U|      53534661|Playstation Plus ...|Digital_Video_Games|          5|            0|          0|   N|                Y|          Five Stars|  very good product.| 2015-08-31|\n",
            "|         US|      56008|R36EN615WG7N08|B00GXHJEE2|     843279494|The Elder Scrolls...|Digital_Video_Games|          5|            0|          0|   N|                Y|Just as good now ...|Just as good now ...| 2015-08-31|\n",
            "|         US|   11984583|R2GRR6L62WH65R|B00CYOHL48|     142949090|Sid Meier's Civil...|Digital_Video_Games|          5|            0|          0|   N|                Y|... a few too man...|I've put a few to...| 2015-08-31|\n",
            "|         US|   22151364|R2SBH942FW2KVU|B00H8VWF5C|     561739914|Saints Row IV - H...|Digital_Video_Games|          5|            0|          0|   N|                Y|          Five Stars|            Awesome!| 2015-08-31|\n",
            "|         US|     565233|R3D5V31WM2WBTG|B00K59HKIQ|     384246568|Playstation Netwo...|Digital_Video_Games|          5|            0|          0|   N|                Y|          Five Stars|           Excellent| 2015-08-31|\n",
            "|         US|   12551634| RDUWTKP375ZYT|B004RMK4BC|     384246568|Playstation Netwo...|Digital_Video_Games|          1|            0|          0|   N|                N|            One Star|     can't find code| 2015-08-31|\n",
            "|         US|    3196654|R23AO8UCYEOPSD|B002VBWIP6|     232803743|Xbox Live Subscri...|Digital_Video_Games|          5|            0|          0|   N|                Y|          Five Stars|          Excelent!!| 2015-08-31|\n",
            "|         US|   13860932|R3D22004JZNQNZ|B009VIKJUS|     892290956|     Xbox Music Pass|Digital_Video_Games|          5|            0|          0|   N|                Y|     Quick and Easy!|Save yourself a t...| 2015-08-31|\n",
            "|         US|   30680101|R1IMWXLSA5GWZU|B00QXRAL3U|     327387772|SPIDERS RPG PACK ...|Digital_Video_Games|          3|            1|          1|   N|                Y|Bad games, that b...|This is a nice co...| 2015-08-31|\n",
            "|         US|    2525949|R28TKY53F83ZZI|B00HG0B8NA|     860280326|All-in-One Solitaire|Digital_Video_Games|          1|            0|          0|   N|                Y|            Pathetic|I guess you get w...| 2015-08-31|\n",
            "|         US|   45765011|R1WJM3LUX5EBFE|B00CPBZDPE|      25969873|Firaxis Pack [Onl...|Digital_Video_Games|          4|            0|          0|   N|                Y|X-Com is essentia...|X-Com is essentia...| 2015-08-31|\n",
            "|         US|    3196654|R2N8DIGPJ4904A|B00F4CFCXO|     341969535| Xbox Live Gift Card|Digital_Video_Games|          5|            0|          0|   N|                Y|          Five Stars|          Excelent!!| 2015-08-31|\n",
            "|         US|   30665883|R3AYRT4NAMQSZB|B00WETIMJG|     430762369|Kitty Powers' Mat...|Digital_Video_Games|          5|            1|          1|   N|                N|             Love it|I say it is a awe...| 2015-08-31|\n",
            "|         US|     108200| R3UJ326S6IJR7|B00CMSCV4Q|     954148166|Final Fantasy XIV...|Digital_Video_Games|          5|            0|          0|   N|                Y|          Five Stars|          good stuff| 2015-08-31|\n",
            "|         US|   22151364| RMDE8ZNMA3322|B00H3N2I7U|     199100232|Saints Row IV - E...|Digital_Video_Games|          5|            0|          0|   N|                Y|          Five Stars|            Awesome!| 2015-08-31|\n",
            "|         US|   51656501|R3PXI8KKYGQC5O|B00XUYIOX8|     760479841|        Project CARS|Digital_Video_Games|          3|            0|          0|   N|                Y|Graphic is really...|This was a pricin...| 2015-08-31|\n",
            "|         US|   40847927|R1EB82XGHB4AXH|B003YCQF3C|     452532551|Agatha Christie 4...|Digital_Video_Games|          4|            0|          0|   N|                Y|         great game!|great game!! pict...| 2015-08-31|\n",
            "|         US|    8680632|R2Y697WVDZXXXG|B004RMK5QG|     395682204|Playstation Plus ...|Digital_Video_Games|          5|            0|          0|   N|                Y|          Five Stars|                  Ok| 2015-08-31|\n",
            "|         US|   28528650|R1T801Q6UUE322|B004RMK5QG|     395682204|Playstation Plus ...|Digital_Video_Games|          5|            0|          0|   N|                Y|          Five Stars|                Nice| 2015-08-31|\n",
            "|         US|    9095823|R2642823GCWLND|B011WI7U0G|     864854550|Batman: Arkham Kn...|Digital_Video_Games|          3|            1|          1|   N|                Y|         Three Stars|It's easily bette...| 2015-08-31|\n",
            "|         US|   18631616|R2ERL1TN0KF6RI|B004SOZCOI|     366042865|       CivCity: Rome|Digital_Video_Games|          5|            0|          0|   N|                Y|          Five Stars|             Love it| 2015-08-31|\n",
            "|         US|   31832413|R2BHVRM60WJ74A|B004RMK5QG|     395682204|Playstation Plus ...|Digital_Video_Games|          5|            0|          0|   N|                N|          Five Stars|                Good| 2015-08-31|\n",
            "|         US|    7100361|R2AOPNDW6ZWIRN|B014592BBC|     384652042|Until Dawn  - Pla...|Digital_Video_Games|          5|            1|          2|   N|                Y|Amazing graphics ...|This game is beau...| 2015-08-31|\n",
            "|         US|    2748015|R2MJT8BFE3HY2E|B004RMK4BC|     384246568|Playstation Netwo...|Digital_Video_Games|          5|            0|          0|   N|                Y|          Five Stars|               Great| 2015-08-31|\n",
            "|         US|   11388778|R1XITDEG13VYCE|B010O9XWO2|     694952333|King's Quest Coll...|Digital_Video_Games|          1|            2|         12|   N|                Y|    One Big Mistake!|Can't get in to i...| 2015-08-31|\n",
            "|         US|    6012639| RW9WINBW53KDA|B004RMK4BC|     384246568|Playstation Netwo...|Digital_Video_Games|          5|            0|          0|   N|                Y|          Five Stars|                 Okk| 2015-08-31|\n",
            "|         US|     667676|R2QF4UDVHMSXYA|B00XJZHJCA|     384246568|Playstation Netwo...|Digital_Video_Games|          5|            0|          0|   N|                N|          Five Stars|                Good| 2015-08-31|\n",
            "|         US|   30755334|R3H310YUUIBCV1|B00GAC1D2G|     384246568|Playstation Netwo...|Digital_Video_Games|          5|            0|          0|   N|                N|          Five Stars|Goods not yet com...| 2015-08-31|\n",
            "|         US|   11858036|R2MFESEUH8B6HD|B004RMK5QG|     395682204|Playstation Plus ...|Digital_Video_Games|          5|            0|          0|   N|                Y|          Five Stars|A must have if yo...| 2015-08-31|\n",
            "|         US|   45124402|R2WRAT4CND3Y7N|B00I4BGLOG|     433924898|The Elder Scrolls...|Digital_Video_Games|          4|            0|          1|   N|                Y|          Four Stars|Very well receive...| 2015-08-31|\n",
            "|         US|   26540306|R1E4R6WS4DFISA|B004RMK5QG|     395682204|Playstation Plus ...|Digital_Video_Games|          5|            0|          0|   N|                Y|          Five Stars|                  Ok| 2015-08-31|\n",
            "|         US|     373926|R2IWG7VDOCXK5U|B00D3TRMEM|     999316107|        Don't Starve|Digital_Video_Games|          5|            1|          1|   N|                Y|          Five Stars|Very nice but it ...| 2015-08-31|\n",
            "|         US|   14861684| RGI8SRJZ1GN1Q|B00FK6VVA2|     154408697|Caesar III [Downl...|Digital_Video_Games|          5|            0|          1|   N|                Y|          Five Stars|     Always a winner| 2015-08-31|\n",
            "|         US|   46588192|R2YS6ENZYWAUA8|B002VBWIP6|     232803743|Xbox Live Subscri...|Digital_Video_Games|          5|            0|          0|   N|                Y|          Five Stars|           Good deal| 2015-08-31|\n",
            "|         US|   22151364|R3D117PS2L1M9J|B007L87VYW|     737195547|  Serious Sam 3: BFE|Digital_Video_Games|          5|            0|          0|   N|                Y|          Five Stars|            Awesome!| 2015-08-31|\n",
            "|         US|   40846657|R1KZ1DXLODLBSX|B00917DBUE|     714336136|Dark Souls: Prepa...|Digital_Video_Games|          5|            0|          0|   N|                N|Cruel and Beautif...|Horrible port to ...| 2015-08-31|\n",
            "|         US|    4763588| RCPDEJX0NIQRP|B00475AYUA|     684016722|Sid Meiers Civili...|Digital_Video_Games|          1|            0|          0|   N|                Y|            One Star| It's an aweful game| 2015-08-31|\n",
            "|         US|   19212616|R1B19R70L9F1VS|B001TK3VTC|     678452244|Cubis Gold 2 [Dow...|Digital_Video_Games|          5|            0|          0|   N|                Y|          Five Stars|                 Fun| 2015-08-31|\n",
            "|         US|   51688000|R34Y0NX6RHTWH1|B012PRO97A|      56796613|Sword Art Online ...|Digital_Video_Games|          5|            1|          2|   N|                Y|   Great gift option|Received code in ...| 2015-08-31|\n",
            "|         US|   36245217| RLTG6S1CM50AZ|B004RMK4BC|     384246568|Playstation Netwo...|Digital_Video_Games|          5|            0|          0|   N|                Y|          Five Stars|             Awesome| 2015-08-31|\n",
            "|         US|   20800686| RX0F83G2T6I27|B002VBWIP6|     232803743|Xbox Live Subscri...|Digital_Video_Games|          2|            0|          2|   N|                Y|           Two Stars|          sold x box| 2015-08-31|\n",
            "|         US|   39005147| RDHZ0IP0QWF3G|B00SLM597S|     500010339|I SPY Pirate Ship...|Digital_Video_Games|          1|            1|          1|   N|                Y|Maybe you'll have...|Crashed and never...| 2015-08-31|\n",
            "|         US|   22151364|R16PVYVGAJOFXU|B00D3TT69G|     771172755|Chivalry: Medieva...|Digital_Video_Games|          5|            0|          0|   N|                Y|          Five Stars|            Awesome!| 2015-08-31|\n",
            "|         US|   17746031|R2BYOTSDJJY65O|B00DRKJBC8|      29664234|Final Fantasy VII...|Digital_Video_Games|          4|            0|          0|   N|                Y|     An amazing game|First of all, I n...| 2015-08-31|\n",
            "|         US|    8500553|R1UKOCV465NQE1|B009AYQQS2|     611416854| Company of Heroes 2|Digital_Video_Games|          1|            0|          4|   N|                Y|            One Star|Almost fried my c...| 2015-08-31|\n",
            "|         US|   42489718|R13H3H1Y9MT7HG|B004RMK5QG|     395682204|Playstation Plus ...|Digital_Video_Games|          5|            0|          0|   N|                Y|Game with friends...|PlayStation Plus ...| 2015-08-31|\n",
            "|         US|     127443| RNCH0H25AYA6J|B00GAC1D2G|     384246568|Playstation Netwo...|Digital_Video_Games|          5|            0|          0|   N|                Y|          Five Stars|        Very good!!!| 2015-08-31|\n",
            "|         US|    1386047|R3GLQIRVJI6BBL|B00GAC1D2G|     384246568|Playstation Netwo...|Digital_Video_Games|          5|            0|          0|   N|                Y|          Five Stars|              Works!| 2015-08-31|\n",
            "|         US|     131582|R1KKKFLE62Y095|B009IR1SR0|     912779847|Command and Conqu...|Digital_Video_Games|          4|            0|          0|   N|                Y|               Great|The game is great...| 2015-08-31|\n",
            "|         US|   10302456|R13MWCZGLM0HT9|B00DTWEOZ8|     869820667|Titanfall [Online...|Digital_Video_Games|          5|            0|          0|   N|                Y|          Five Stars|        Great Game!!| 2015-08-31|\n",
            "|         US|    8544848|R2T6EYAOJCRNFZ|B004RMK4P8|     384246568|Playstation Netwo...|Digital_Video_Games|          5|            0|          0|   N|                Y|          Five Stars|Fast way to fill ...| 2015-08-31|\n",
            "|         US|    2759623|R36ODKFYKH2OBI|B004RMK4BC|     384246568|Playstation Netwo...|Digital_Video_Games|          5|            0|          0|   N|                Y|          Five Stars|     What can I say?| 2015-08-31|\n",
            "|         US|     784585|R2C0ZRA0SEZZTB|B00XJZHJCA|     384246568|Playstation Netwo...|Digital_Video_Games|          5|            0|          0|   N|                Y|          Five Stars|Exactly as described| 2015-08-31|\n",
            "|         US|    1145622|R3APMRZGN2X6DB|B004RMK4P8|     384246568|Playstation Netwo...|Digital_Video_Games|          5|            0|          0|   N|                Y|very happy with thus|Within 1 min you'...| 2015-08-31|\n",
            "|         US|     177877|R115MHJTW7LRMX|B010KYDNDG|     835376637|Minecraft for PC/...|Digital_Video_Games|          5|            1|          1|   N|                Y|... have disks fo...|Although I normal...| 2015-08-31|\n",
            "|         US|   22151364|R1A8HMDA33GS4J|B00D3TT6AK|     279471037|     Castle Crashers|Digital_Video_Games|          5|            0|          0|   N|                Y|          Five Stars|            Awesome!| 2015-08-31|\n",
            "|         US|   43984569|R38QEHOXM80XF0|B00F4CEOS8|     341969535| Xbox Live Gift Card|Digital_Video_Games|          5|            0|          0|   N|                Y|             Perfect|My grandson said ...| 2015-08-31|\n",
            "|         US|   21232968|R11P8LXUUSZT7U|B00FK69LCM|     242676149|Pac-Man Champions...|Digital_Video_Games|          5|            0|          0|   N|                Y|Would Buy For Ful...|Amazingly fun gam...| 2015-08-31|\n",
            "|         US|     156094|R2UI2A0GVZ6SQC|B00GAC1D2G|     384246568|Playstation Netwo...|Digital_Video_Games|          5|            0|          0|   N|                Y|          Five Stars|           Excelente| 2015-08-31|\n",
            "|         US|   28034012|R2GFH6IGSW33MP|B00GMPJKDA|     806044015|Trine 2: Complete...|Digital_Video_Games|          4|            1|          1|   N|                Y|          Four Stars|Awesome brain can...| 2015-08-31|\n",
            "|         US|   41184449|R3BIGSAZXXERI7|B00ZVQKUGW|     757572801|FINAL FANTASY XIV...|Digital_Video_Games|          5|            0|          1|   N|                Y|Excellent Expansi...|I have been playi...| 2015-08-31|\n",
            "|         US|   20736756|R1SGO2BPTCJTN3|B00JU9NV3K|     483903773|Dragon Age Inquis...|Digital_Video_Games|          1|            1|          3|   N|                Y|            One Star|I cannot download...| 2015-08-31|\n",
            "+-----------+-----------+--------------+----------+--------------+--------------------+-------------------+-----------+-------------+-----------+----+-----------------+--------------------+--------------------+-----------+\n",
            "only showing top 100 rows\n",
            "\n"
          ]
        }
      ]
    },
    {
      "cell_type": "code",
      "metadata": {
        "colab": {
          "base_uri": "https://localhost:8080/"
        },
        "id": "jHwuFFrkDLCG",
        "outputId": "94030a60-d992-4d53-a6e0-b4d446581422"
      },
      "source": [
        "# Create the vine_table DataFrame\n",
        "vine_df = df.select([\"review_id\", \"star_rating\", \"helpful_votes\", \"total_votes\", \"vine\", \"verified_purchase\"])\n",
        "vine_df.show()"
      ],
      "execution_count": 6,
      "outputs": [
        {
          "output_type": "stream",
          "name": "stdout",
          "text": [
            "+--------------+-----------+-------------+-----------+----+-----------------+\n",
            "|     review_id|star_rating|helpful_votes|total_votes|vine|verified_purchase|\n",
            "+--------------+-----------+-------------+-----------+----+-----------------+\n",
            "| RSH1OZ87OYK92|          2|            2|          3|   N|                N|\n",
            "|R1WFOQ3N9BO65I|          5|            0|          0|   N|                Y|\n",
            "| R3YOOS71KM5M9|          5|            0|          0|   N|                Y|\n",
            "|R3R14UATT3OUFU|          5|            0|          0|   N|                Y|\n",
            "| RV2W9SGDNQA2C|          5|            0|          0|   N|                Y|\n",
            "|R3CFKLIZ0I2KOB|          5|            0|          0|   N|                Y|\n",
            "|R1LRYU1V0T3O38|          4|            0|          0|   N|                Y|\n",
            "| R44QKV6FE5CJ2|          5|            0|          0|   N|                Y|\n",
            "|R2TX1KLPXXXNYS|          5|            0|          0|   N|                Y|\n",
            "|R1JEEW4C6R89BA|          5|            0|          0|   N|                Y|\n",
            "|R3B3UHK1FO0ERS|          1|            0|          0|   N|                N|\n",
            "|R2GVSDHW513SS1|          5|            0|          0|   N|                Y|\n",
            "|R1R1NT516PYT73|          5|            0|          0|   N|                Y|\n",
            "|R3K624QDQKENN9|          4|            0|          0|   N|                Y|\n",
            "| R1FOXH7PCJX3V|          1|            0|          2|   N|                Y|\n",
            "| RA1246M1OMDWC|          5|            0|          0|   N|                Y|\n",
            "|R2I9SXWB0PAEKQ|          5|            0|          0|   N|                Y|\n",
            "|R3UGL544NA0G9C|          4|            0|          0|   N|                Y|\n",
            "|R1CBA4Y92GVAVM|          5|            0|          0|   N|                Y|\n",
            "|R24NEKNR01VEHU|          5|            0|          0|   N|                Y|\n",
            "+--------------+-----------+-------------+-----------+----+-----------------+\n",
            "only showing top 20 rows\n",
            "\n"
          ]
        }
      ]
    },
    {
      "cell_type": "code",
      "metadata": {
        "colab": {
          "base_uri": "https://localhost:8080/"
        },
        "id": "VXyoaj1DD5MI",
        "outputId": "803eef5d-93b2-40f0-ef83-820cdc84a306"
      },
      "source": [
        "# Filter by price on certain columns\n",
        "vine_df.filter(\"total_votes=20\").select([\"review_id\", \"star_rating\", \"helpful_votes\", \"total_votes\", \"vine\", \"verified_purchase\"]).show(5)"
      ],
      "execution_count": 7,
      "outputs": [
        {
          "output_type": "stream",
          "name": "stdout",
          "text": [
            "+--------------+-----------+-------------+-----------+----+-----------------+\n",
            "|     review_id|star_rating|helpful_votes|total_votes|vine|verified_purchase|\n",
            "+--------------+-----------+-------------+-----------+----+-----------------+\n",
            "|R17V95WYC9ZXDD|          1|            0|         20|   N|                Y|\n",
            "|R3GOWP6NVZ9SYO|          1|            0|         20|   N|                Y|\n",
            "|R1R68MH1B0U138|          1|            6|         20|   N|                N|\n",
            "|R18DRZUXWZBQ0M|          1|            7|         20|   N|                Y|\n",
            "|R1E7D5WADUGQAF|          1|            7|         20|   N|                Y|\n",
            "+--------------+-----------+-------------+-----------+----+-----------------+\n",
            "only showing top 5 rows\n",
            "\n"
          ]
        }
      ]
    },
    {
      "cell_type": "code",
      "metadata": {
        "colab": {
          "base_uri": "https://localhost:8080/"
        },
        "id": "-uEOGirBEQ1J",
        "outputId": "cdfbb56c-a01c-4bca-a886-e60733f3386a"
      },
      "source": [
        "helpful_filter_df = vine_df.filter(\"helpful_votes/total_votes >= .50\")\n",
        "helpful_filter_df.show()"
      ],
      "execution_count": 8,
      "outputs": [
        {
          "output_type": "stream",
          "name": "stdout",
          "text": [
            "+--------------+-----------+-------------+-----------+----+-----------------+\n",
            "|     review_id|star_rating|helpful_votes|total_votes|vine|verified_purchase|\n",
            "+--------------+-----------+-------------+-----------+----+-----------------+\n",
            "| RSH1OZ87OYK92|          2|            2|          3|   N|                N|\n",
            "|R1IMWXLSA5GWZU|          3|            1|          1|   N|                Y|\n",
            "|R3AYRT4NAMQSZB|          5|            1|          1|   N|                N|\n",
            "|R2642823GCWLND|          3|            1|          1|   N|                Y|\n",
            "|R2AOPNDW6ZWIRN|          5|            1|          2|   N|                Y|\n",
            "|R2IWG7VDOCXK5U|          5|            1|          1|   N|                Y|\n",
            "|R34Y0NX6RHTWH1|          5|            1|          2|   N|                Y|\n",
            "| RDHZ0IP0QWF3G|          1|            1|          1|   N|                Y|\n",
            "|R115MHJTW7LRMX|          5|            1|          1|   N|                Y|\n",
            "|R2GFH6IGSW33MP|          4|            1|          1|   N|                Y|\n",
            "|R1PGWD5M2H10W3|          2|            1|          2|   N|                Y|\n",
            "|R1GQER9Z4SUO2A|          5|            1|          1|   N|                Y|\n",
            "|R39VO25VT9TI5H|          1|            1|          1|   N|                Y|\n",
            "|R30OMY3QWDUPRL|          3|            4|          6|   N|                Y|\n",
            "|R1LYKEM1U10XRN|          2|            2|          4|   N|                Y|\n",
            "|R1Z782DO5M6AB7|          1|            1|          2|   N|                Y|\n",
            "| R87TWWT7X9FZB|          4|            6|          6|   N|                N|\n",
            "|R1BMQUJWR6WQ26|          1|            1|          1|   N|                Y|\n",
            "| RVBFXPJZBV2W0|          5|            1|          1|   N|                Y|\n",
            "| RWQI661DFFIF3|          5|            3|          3|   N|                Y|\n",
            "+--------------+-----------+-------------+-----------+----+-----------------+\n",
            "only showing top 20 rows\n",
            "\n"
          ]
        }
      ]
    },
    {
      "cell_type": "code",
      "metadata": {
        "colab": {
          "base_uri": "https://localhost:8080/"
        },
        "id": "gwGTYBYrFANA",
        "outputId": "48bb7418-f571-40c2-ec66-f60742961bc4"
      },
      "source": [
        "vine_paid_df = helpful_filter_df.filter(helpful_filter_df[\"vine\"] == \"Y\")\n",
        "vine_paid_df.show()"
      ],
      "execution_count": 9,
      "outputs": [
        {
          "output_type": "stream",
          "name": "stdout",
          "text": [
            "+---------+-----------+-------------+-----------+----+-----------------+\n",
            "|review_id|star_rating|helpful_votes|total_votes|vine|verified_purchase|\n",
            "+---------+-----------+-------------+-----------+----+-----------------+\n",
            "+---------+-----------+-------------+-----------+----+-----------------+\n",
            "\n"
          ]
        }
      ]
    },
    {
      "cell_type": "code",
      "metadata": {
        "colab": {
          "base_uri": "https://localhost:8080/"
        },
        "id": "CMAFVZvQH-qZ",
        "outputId": "41488634-169c-4bdd-d762-0325c249d899"
      },
      "source": [
        "vine_paid_review_count = vine_paid_df.count()\n",
        "print(vine_paid_review_count)"
      ],
      "execution_count": 10,
      "outputs": [
        {
          "output_type": "stream",
          "name": "stdout",
          "text": [
            "0\n"
          ]
        }
      ]
    },
    {
      "cell_type": "code",
      "metadata": {
        "colab": {
          "base_uri": "https://localhost:8080/"
        },
        "id": "PBIRgu5DGOm_",
        "outputId": "ed35b0d2-9f3e-496d-cea9-20c46d0886f5"
      },
      "source": [
        "vine_unpaid_df = helpful_filter_df.filter(helpful_filter_df[\"vine\"] == \"N\")\n",
        "vine_unpaid_df.show()"
      ],
      "execution_count": 11,
      "outputs": [
        {
          "output_type": "stream",
          "name": "stdout",
          "text": [
            "+--------------+-----------+-------------+-----------+----+-----------------+\n",
            "|     review_id|star_rating|helpful_votes|total_votes|vine|verified_purchase|\n",
            "+--------------+-----------+-------------+-----------+----+-----------------+\n",
            "| RSH1OZ87OYK92|          2|            2|          3|   N|                N|\n",
            "|R1IMWXLSA5GWZU|          3|            1|          1|   N|                Y|\n",
            "|R3AYRT4NAMQSZB|          5|            1|          1|   N|                N|\n",
            "|R2642823GCWLND|          3|            1|          1|   N|                Y|\n",
            "|R2AOPNDW6ZWIRN|          5|            1|          2|   N|                Y|\n",
            "|R2IWG7VDOCXK5U|          5|            1|          1|   N|                Y|\n",
            "|R34Y0NX6RHTWH1|          5|            1|          2|   N|                Y|\n",
            "| RDHZ0IP0QWF3G|          1|            1|          1|   N|                Y|\n",
            "|R115MHJTW7LRMX|          5|            1|          1|   N|                Y|\n",
            "|R2GFH6IGSW33MP|          4|            1|          1|   N|                Y|\n",
            "|R1PGWD5M2H10W3|          2|            1|          2|   N|                Y|\n",
            "|R1GQER9Z4SUO2A|          5|            1|          1|   N|                Y|\n",
            "|R39VO25VT9TI5H|          1|            1|          1|   N|                Y|\n",
            "|R30OMY3QWDUPRL|          3|            4|          6|   N|                Y|\n",
            "|R1LYKEM1U10XRN|          2|            2|          4|   N|                Y|\n",
            "|R1Z782DO5M6AB7|          1|            1|          2|   N|                Y|\n",
            "| R87TWWT7X9FZB|          4|            6|          6|   N|                N|\n",
            "|R1BMQUJWR6WQ26|          1|            1|          1|   N|                Y|\n",
            "| RVBFXPJZBV2W0|          5|            1|          1|   N|                Y|\n",
            "| RWQI661DFFIF3|          5|            3|          3|   N|                Y|\n",
            "+--------------+-----------+-------------+-----------+----+-----------------+\n",
            "only showing top 20 rows\n",
            "\n"
          ]
        }
      ]
    },
    {
      "cell_type": "code",
      "metadata": {
        "colab": {
          "base_uri": "https://localhost:8080/"
        },
        "id": "QkQVj4Z3P9ci",
        "outputId": "56ed9ec6-418f-446d-e7e7-74f9a20c54fa"
      },
      "source": [
        "vine_unpaid_review_count = vine_unpaid_df.count()\n",
        "print(vine_unpaid_review_count)"
      ],
      "execution_count": 12,
      "outputs": [
        {
          "output_type": "stream",
          "name": "stdout",
          "text": [
            "36826\n"
          ]
        }
      ]
    },
    {
      "cell_type": "code",
      "metadata": {
        "colab": {
          "base_uri": "https://localhost:8080/"
        },
        "id": "fpyRnNonIE3p",
        "outputId": "069dc528-ffe6-4d02-e187-2b08407f3105"
      },
      "source": [
        "vine_unpaid_5star = vine_unpaid_df.filter(vine_unpaid_df[\"star_rating\"] == \"5\").count()\n",
        "print(vine_unpaid_5star)\n"
      ],
      "execution_count": 18,
      "outputs": [
        {
          "output_type": "stream",
          "name": "stdout",
          "text": [
            "15289\n"
          ]
        }
      ]
    },
    {
      "cell_type": "code",
      "metadata": {
        "colab": {
          "base_uri": "https://localhost:8080/"
        },
        "id": "O1FhHVGRJlKi",
        "outputId": "ae366060-de22-4e44-8eb2-f238585ddc8b"
      },
      "source": [
        "vine_paid_5star = vine_paid_df.filter(vine_paid_df[\"star_rating\"] == \"5\").count()\n",
        "print(vine_paid_5star)"
      ],
      "execution_count": 29,
      "outputs": [
        {
          "output_type": "stream",
          "name": "stdout",
          "text": [
            "0\n"
          ]
        }
      ]
    },
    {
      "cell_type": "code",
      "metadata": {
        "colab": {
          "base_uri": "https://localhost:8080/"
        },
        "id": "C25uYfa-TrTD",
        "outputId": "745cc158-10b5-4a5a-8dcb-6fd753feb25d"
      },
      "source": [
        "vine_unpaid_5star_percent = (vine_unpaid_5star / vine_unpaid_review_count)\n",
        "print(vine_unpaid_5star_percent)"
      ],
      "execution_count": 26,
      "outputs": [
        {
          "output_type": "stream",
          "name": "stdout",
          "text": [
            "0.4151686308586325\n"
          ]
        }
      ]
    },
    {
      "cell_type": "code",
      "metadata": {
        "colab": {
          "base_uri": "https://localhost:8080/"
        },
        "id": "cMnq0AJnfBpR",
        "outputId": "df159e39-1125-4c2e-f120-69b9880582c2"
      },
      "source": [
        "total_review_count = (vine_paid_review_count + vine_unpaid_review_count)\n",
        "print(total_review_count)"
      ],
      "execution_count": 37,
      "outputs": [
        {
          "output_type": "stream",
          "name": "stdout",
          "text": [
            "36826\n"
          ]
        }
      ]
    },
    {
      "cell_type": "code",
      "metadata": {
        "colab": {
          "base_uri": "https://localhost:8080/",
          "height": 181
        },
        "id": "UFn2w_F_WjqI",
        "outputId": "69153a49-947d-4daf-a3d4-9602c62d4ea0"
      },
      "source": [
        "vine_paid_5star_percent = (vine_paid_5star / vine_paid_review_count)\n",
        "print(vine_paid_5star_percent)"
      ],
      "execution_count": 27,
      "outputs": [
        {
          "output_type": "error",
          "ename": "TypeError",
          "evalue": "ignored",
          "traceback": [
            "\u001b[0;31m---------------------------------------------------------------------------\u001b[0m",
            "\u001b[0;31mTypeError\u001b[0m                                 Traceback (most recent call last)",
            "\u001b[0;32m<ipython-input-27-17e6f58faf1e>\u001b[0m in \u001b[0;36m<module>\u001b[0;34m()\u001b[0m\n\u001b[0;32m----> 1\u001b[0;31m \u001b[0mvine_paid_5star_percent\u001b[0m \u001b[0;34m=\u001b[0m \u001b[0;34m(\u001b[0m\u001b[0mvine_paid_5star\u001b[0m \u001b[0;34m/\u001b[0m \u001b[0mvine_paid_review_count\u001b[0m\u001b[0;34m)\u001b[0m\u001b[0;34m\u001b[0m\u001b[0;34m\u001b[0m\u001b[0m\n\u001b[0m\u001b[1;32m      2\u001b[0m \u001b[0mprint\u001b[0m\u001b[0;34m(\u001b[0m\u001b[0mvine_paid_5star_percent\u001b[0m\u001b[0;34m)\u001b[0m\u001b[0;34m\u001b[0m\u001b[0;34m\u001b[0m\u001b[0m\n",
            "\u001b[0;31mTypeError\u001b[0m: unsupported operand type(s) for /: 'DataFrame' and 'int'"
          ]
        }
      ]
    },
    {
      "cell_type": "code",
      "metadata": {
        "colab": {
          "base_uri": "https://localhost:8080/"
        },
        "id": "cY00DW2zcYvb",
        "outputId": "8448fb50-1361-48c7-e90c-8340dce64ad0"
      },
      "source": [
        "print(\"Total UNPAID reviews: %f\" % vine_unpaid_review_count)\n",
        "print(\"Total UNPAID 5 star reviews: %f\" % vine_unpaid_5star)\n",
        "print(\"Percent UNPAID 5 star reviews: %f\" % vine_unpaid_5star_percent)\n",
        "print(\"Total PAID reviews: %f\" % vine_paid_review_count) \n",
        "print(\"Total PAID 5 star reviews: %f\" % vine_paid_5star)\n",
        "print(\"Percent PAID 5 star reviews is an error, as you cannot divide by zero\")"
      ],
      "execution_count": 40,
      "outputs": [
        {
          "output_type": "stream",
          "name": "stdout",
          "text": [
            "Total UNPAID reviews: 36826.000000\n",
            "Total UNPAID 5 star reviews: 15289.000000\n",
            "Percent UNPAID 5 star reviews: 0.415169\n",
            "Total PAID reviews: 0.000000\n",
            "Total PAID 5 star reviews: 0.000000\n",
            "Percent PAID 5 star reviews is an error, as you cannot divide by zero\n"
          ]
        }
      ]
    },
    {
      "cell_type": "code",
      "metadata": {
        "id": "TxJbZZdZeUJC"
      },
      "source": [
        ""
      ],
      "execution_count": null,
      "outputs": []
    }
  ]
}