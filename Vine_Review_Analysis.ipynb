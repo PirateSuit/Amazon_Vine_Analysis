{
  "nbformat": 4,
  "nbformat_minor": 0,
  "metadata": {
    "colab": {
      "name": "Vine_Review_Analysis.ipynb",
      "provenance": [],
      "collapsed_sections": []
    },
    "kernelspec": {
      "name": "python3",
      "display_name": "Python 3"
    },
    "language_info": {
      "name": "python"
    }
  },
  "cells": [
    {
      "cell_type": "code",
      "metadata": {
        "colab": {
          "base_uri": "https://localhost:8080/"
        },
        "id": "U5N2fHZjCL7O",
        "outputId": "37afce72-bc79-4518-d213-cd253548524b"
      },
      "source": [
        "import os\n",
        "# Find the latest version of spark 3.0 from http://www.apache.org/dist/spark/ and enter as the spark version\n",
        "# For example:\n",
        "# spark_version = 'spark-3.0.3'\n",
        "spark_version = 'spark-3.2.0'\n",
        "os.environ['SPARK_VERSION']=spark_version\n",
        "\n",
        "# Install Spark and Java\n",
        "!apt-get update\n",
        "!apt-get install openjdk-11-jdk-headless -qq > /dev/null\n",
        "!wget -q http://www.apache.org/dist/spark/$SPARK_VERSION/$SPARK_VERSION-bin-hadoop2.7.tgz\n",
        "!tar xf $SPARK_VERSION-bin-hadoop2.7.tgz\n",
        "!pip install -q findspark\n",
        "\n",
        "# Set Environment Variables\n",
        "import os\n",
        "os.environ[\"JAVA_HOME\"] = \"/usr/lib/jvm/java-11-openjdk-amd64\"\n",
        "os.environ[\"SPARK_HOME\"] = f\"/content/{spark_version}-bin-hadoop2.7\"\n",
        "\n",
        "# Start a SparkSession\n",
        "import findspark\n",
        "findspark.init()"
      ],
      "execution_count": 2,
      "outputs": [
        {
          "output_type": "stream",
          "name": "stdout",
          "text": [
            "\r0% [Working]\r            \rIgn:1 https://developer.download.nvidia.com/compute/cuda/repos/ubuntu1804/x86_64  InRelease\n",
            "\r0% [Connecting to archive.ubuntu.com (91.189.88.152)] [Waiting for headers] [Co\r                                                                               \rGet:2 http://security.ubuntu.com/ubuntu bionic-security InRelease [88.7 kB]\n",
            "\r0% [Connecting to archive.ubuntu.com (91.189.88.152)] [2 InRelease 0 B/88.7 kB \r                                                                               \rGet:3 https://cloud.r-project.org/bin/linux/ubuntu bionic-cran40/ InRelease [3,626 B]\n",
            "\r0% [Connecting to archive.ubuntu.com (91.189.88.152)] [2 InRelease 14.2 kB/88.7\r0% [Connecting to archive.ubuntu.com (91.189.88.152)] [2 InRelease 14.2 kB/88.7\r0% [3 InRelease gpgv 3,626 B] [Waiting for headers] [2 InRelease 14.2 kB/88.7 k\r                                                                               \rIgn:4 https://developer.download.nvidia.com/compute/machine-learning/repos/ubuntu1804/x86_64  InRelease\n",
            "\r0% [3 InRelease gpgv 3,626 B] [Waiting for headers] [2 InRelease 14.2 kB/88.7 k\r                                                                               \rGet:5 https://developer.download.nvidia.com/compute/cuda/repos/ubuntu1804/x86_64  Release [696 B]\n",
            "Hit:6 https://developer.download.nvidia.com/compute/machine-learning/repos/ubuntu1804/x86_64  Release\n",
            "Get:7 https://developer.download.nvidia.com/compute/cuda/repos/ubuntu1804/x86_64  Release.gpg [836 B]\n",
            "Hit:8 http://ppa.launchpad.net/c2d4u.team/c2d4u4.0+/ubuntu bionic InRelease\n",
            "Hit:9 http://archive.ubuntu.com/ubuntu bionic InRelease\n",
            "Get:10 http://archive.ubuntu.com/ubuntu bionic-updates InRelease [88.7 kB]\n",
            "Hit:11 http://ppa.launchpad.net/cran/libgit2/ubuntu bionic InRelease\n",
            "Hit:13 http://ppa.launchpad.net/deadsnakes/ppa/ubuntu bionic InRelease\n",
            "Get:14 http://archive.ubuntu.com/ubuntu bionic-backports InRelease [74.6 kB]\n",
            "Get:15 https://developer.download.nvidia.com/compute/cuda/repos/ubuntu1804/x86_64  Packages [786 kB]\n",
            "Hit:16 http://ppa.launchpad.net/graphics-drivers/ppa/ubuntu bionic InRelease\n",
            "Get:17 http://security.ubuntu.com/ubuntu bionic-security/universe amd64 Packages [1,434 kB]\n",
            "Get:18 http://security.ubuntu.com/ubuntu bionic-security/main amd64 Packages [2,398 kB]\n",
            "Get:19 http://archive.ubuntu.com/ubuntu bionic-updates/main amd64 Packages [2,835 kB]\n",
            "Get:20 http://archive.ubuntu.com/ubuntu bionic-updates/universe amd64 Packages [2,213 kB]\n",
            "Fetched 9,924 kB in 4s (2,755 kB/s)\n",
            "Reading package lists... Done\n"
          ]
        }
      ]
    },
    {
      "cell_type": "code",
      "metadata": {
        "colab": {
          "base_uri": "https://localhost:8080/"
        },
        "id": "qpozbZEQC1A2",
        "outputId": "815904e0-f881-4325-a4da-2e28035d93f7"
      },
      "source": [
        "# Download the Postgres driver that will allow Spark to interact with Postgres.\n",
        "!wget https://jdbc.postgresql.org/download/postgresql-42.2.16.jar"
      ],
      "execution_count": 3,
      "outputs": [
        {
          "output_type": "stream",
          "name": "stdout",
          "text": [
            "--2021-10-28 21:55:27--  https://jdbc.postgresql.org/download/postgresql-42.2.16.jar\n",
            "Resolving jdbc.postgresql.org (jdbc.postgresql.org)... 72.32.157.228, 2001:4800:3e1:1::228\n",
            "Connecting to jdbc.postgresql.org (jdbc.postgresql.org)|72.32.157.228|:443... connected.\n",
            "HTTP request sent, awaiting response... 200 OK\n",
            "Length: 1002883 (979K) [application/java-archive]\n",
            "Saving to: ‘postgresql-42.2.16.jar’\n",
            "\n",
            "postgresql-42.2.16. 100%[===================>] 979.38K  4.91MB/s    in 0.2s    \n",
            "\n",
            "2021-10-28 21:55:27 (4.91 MB/s) - ‘postgresql-42.2.16.jar’ saved [1002883/1002883]\n",
            "\n"
          ]
        }
      ]
    },
    {
      "cell_type": "code",
      "metadata": {
        "id": "TAwS4q0PC5zC"
      },
      "source": [
        "from pyspark.sql import SparkSession\n",
        "spark = SparkSession.builder.appName(\"M16-Amazon-Challenge\").config(\"spark.driver.extraClassPath\",\"/content/postgresql-42.2.16.jar\").getOrCreate()"
      ],
      "execution_count": 4,
      "outputs": []
    },
    {
      "cell_type": "code",
      "metadata": {
        "colab": {
          "base_uri": "https://localhost:8080/"
        },
        "id": "tlf-loHLC-iw",
        "outputId": "c4ee1831-64f7-4562-8312-6aed3f3133c9"
      },
      "source": [
        "from pyspark import SparkFiles\n",
        "url = \"https://s3.amazonaws.com/amazon-reviews-pds/tsv/amazon_reviews_us_Video_Games_v1_00.tsv.gz\"\n",
        "spark.sparkContext.addFile(url)\n",
        "df = spark.read.option(\"encoding\", \"UTF-8\").csv(SparkFiles.get(\"\"), sep=\"\\t\", header=True, inferSchema=True)\n",
        "df.show(20)"
      ],
      "execution_count": 5,
      "outputs": [
        {
          "output_type": "stream",
          "name": "stdout",
          "text": [
            "+-----------+-----------+--------------+----------+--------------+--------------------+----------------+-----------+-------------+-----------+----+-----------------+--------------------+--------------------+-----------+\n",
            "|marketplace|customer_id|     review_id|product_id|product_parent|       product_title|product_category|star_rating|helpful_votes|total_votes|vine|verified_purchase|     review_headline|         review_body|review_date|\n",
            "+-----------+-----------+--------------+----------+--------------+--------------------+----------------+-----------+-------------+-----------+----+-----------------+--------------------+--------------------+-----------+\n",
            "|         US|   12039526| RTIS3L2M1F5SM|B001CXYMFS|     737716809|Thrustmaster T-Fl...|     Video Games|          5|            0|          0|   N|                Y|an amazing joysti...|Used this for Eli...| 2015-08-31|\n",
            "|         US|    9636577| R1ZV7R40OLHKD|B00M920ND6|     569686175|Tonsee 6 buttons ...|     Video Games|          5|            0|          0|   N|                Y|Definitely a sile...|Loved it,  I didn...| 2015-08-31|\n",
            "|         US|    2331478|R3BH071QLH8QMC|B0029CSOD2|      98937668|Hidden Mysteries:...|     Video Games|          1|            0|          1|   N|                Y|            One Star|poor quality work...| 2015-08-31|\n",
            "|         US|   52495923|R127K9NTSXA2YH|B00GOOSV98|      23143350|GelTabz Performan...|     Video Games|          3|            0|          0|   N|                Y|good, but could b...|nice, but tend to...| 2015-08-31|\n",
            "|         US|   14533949|R32ZWUXDJPW27Q|B00Y074JOM|     821342511|Zero Suit Samus a...|     Video Games|          4|            0|          0|   N|                Y|   Great but flawed.|Great amiibo, gre...| 2015-08-31|\n",
            "|         US|    2377552|R3AQQ4YUKJWBA6|B002UBI6W6|     328764615|Psyclone Recharge...|     Video Games|          1|            0|          0|   N|                Y|            One Star|The remote consta...| 2015-08-31|\n",
            "|         US|   17521011|R2F0POU5K6F73F|B008XHCLFO|      24234603|Protection for yo...|     Video Games|          5|            0|          0|   N|                Y|              A Must|I have a 2012-201...| 2015-08-31|\n",
            "|         US|   19676307|R3VNR804HYSMR6|B00BRA9R6A|     682267517|   Nerf 3DS XL Armor|     Video Games|          5|            0|          0|   N|                Y|          Five Stars|Perfect, kids lov...| 2015-08-31|\n",
            "|         US|     224068| R3GZTM72WA2QH|B009EPWJLA|     435241890|One Piece: Pirate...|     Video Games|          5|            0|          0|   N|                Y|          Five Stars|            Excelent| 2015-08-31|\n",
            "|         US|   48467989| RNQOY62705W1K|B0000AV7GB|     256572651|Playstation 2 Dan...|     Video Games|          4|            0|          0|   N|                Y|          Four Stars|Slippery but expe...| 2015-08-31|\n",
            "|         US|     106569|R1VTIA3JTYBY02|B00008KTNN|     384411423|Metal Arms: Glitc...|     Video Games|          5|            0|          0|   N|                N|          Five Stars|Love the game. Se...| 2015-08-31|\n",
            "|         US|   48269642|R29DOU8791QZL8|B000A3IA0Y|     472622859|72 Pin Connector ...|     Video Games|          1|            0|          0|   N|                Y| Game will get stuck|Does not fit prop...| 2015-08-31|\n",
            "|         US|   52738710|R15DUT1VIJ9RJZ|B0053BQN34|     577628462|uDraw Gametablet ...|     Video Games|          2|            0|          0|   N|                Y|We have tried it ...|This was way too ...| 2015-08-31|\n",
            "|         US|   10556786|R3IMF2MQ3OU9ZM|B002I0HIMI|     988218515|NBA 2K12(Covers M...|     Video Games|          4|            0|          0|   N|                Y|          Four Stars|Works great good ...| 2015-08-31|\n",
            "|         US|    2963837|R23H79DHOZTYAU|B0081EH12M|     770100932|New Trigger Grips...|     Video Games|          1|            1|          1|   N|                Y|Now i have to buy...|It did not fit th...| 2015-08-31|\n",
            "|         US|   23092109| RIV24EQAIXA4O|B005FMLZQQ|      24647669|Xbox 360 Media Re...|     Video Games|          5|            0|          0|   N|                Y|          Five Stars|perfect lightweig...| 2015-08-31|\n",
            "|         US|   23091728|R3UCNGYDVN24YB|B002BSA388|      33706205|Super Mario Galaxy 2|     Video Games|          5|            0|          0|   N|                Y|          Five Stars|               great| 2015-08-31|\n",
            "|         US|   10712640| RUL4H4XTTN2DY|B00BUSLSAC|     829667834|Nintendo 3DS XL -...|     Video Games|          5|            0|          0|   N|                Y|          Five Stars|Works beautifully...| 2015-08-31|\n",
            "|         US|   17455376|R20JF7Z4DHTNX5|B00KWF38AW|     110680188|Captain Toad:  Tr...|     Video Games|          5|            0|          0|   N|                Y|          Five Stars|Kids loved the ga...| 2015-08-31|\n",
            "|         US|   14754850|R2T1AJ5MFI2260|B00BRQJYA8|     616463426|Lego Batman 2: DC...|     Video Games|          4|            0|          0|   N|                Y|          Four Stars|           Goodngame| 2015-08-31|\n",
            "+-----------+-----------+--------------+----------+--------------+--------------------+----------------+-----------+-------------+-----------+----+-----------------+--------------------+--------------------+-----------+\n",
            "only showing top 20 rows\n",
            "\n"
          ]
        }
      ]
    },
    {
      "cell_type": "code",
      "metadata": {
        "colab": {
          "base_uri": "https://localhost:8080/"
        },
        "id": "jHwuFFrkDLCG",
        "outputId": "825fad72-185a-4e39-e1db-6fe5959ff44d"
      },
      "source": [
        "# Create the vine_table DataFrame\n",
        "vine_df = df.select([\"review_id\", \"star_rating\", \"helpful_votes\", \"total_votes\", \"vine\", \"verified_purchase\"])\n",
        "vine_df.show()"
      ],
      "execution_count": 6,
      "outputs": [
        {
          "output_type": "stream",
          "name": "stdout",
          "text": [
            "+--------------+-----------+-------------+-----------+----+-----------------+\n",
            "|     review_id|star_rating|helpful_votes|total_votes|vine|verified_purchase|\n",
            "+--------------+-----------+-------------+-----------+----+-----------------+\n",
            "| RTIS3L2M1F5SM|          5|            0|          0|   N|                Y|\n",
            "| R1ZV7R40OLHKD|          5|            0|          0|   N|                Y|\n",
            "|R3BH071QLH8QMC|          1|            0|          1|   N|                Y|\n",
            "|R127K9NTSXA2YH|          3|            0|          0|   N|                Y|\n",
            "|R32ZWUXDJPW27Q|          4|            0|          0|   N|                Y|\n",
            "|R3AQQ4YUKJWBA6|          1|            0|          0|   N|                Y|\n",
            "|R2F0POU5K6F73F|          5|            0|          0|   N|                Y|\n",
            "|R3VNR804HYSMR6|          5|            0|          0|   N|                Y|\n",
            "| R3GZTM72WA2QH|          5|            0|          0|   N|                Y|\n",
            "| RNQOY62705W1K|          4|            0|          0|   N|                Y|\n",
            "|R1VTIA3JTYBY02|          5|            0|          0|   N|                N|\n",
            "|R29DOU8791QZL8|          1|            0|          0|   N|                Y|\n",
            "|R15DUT1VIJ9RJZ|          2|            0|          0|   N|                Y|\n",
            "|R3IMF2MQ3OU9ZM|          4|            0|          0|   N|                Y|\n",
            "|R23H79DHOZTYAU|          1|            1|          1|   N|                Y|\n",
            "| RIV24EQAIXA4O|          5|            0|          0|   N|                Y|\n",
            "|R3UCNGYDVN24YB|          5|            0|          0|   N|                Y|\n",
            "| RUL4H4XTTN2DY|          5|            0|          0|   N|                Y|\n",
            "|R20JF7Z4DHTNX5|          5|            0|          0|   N|                Y|\n",
            "|R2T1AJ5MFI2260|          4|            0|          0|   N|                Y|\n",
            "+--------------+-----------+-------------+-----------+----+-----------------+\n",
            "only showing top 20 rows\n",
            "\n"
          ]
        }
      ]
    },
    {
      "cell_type": "code",
      "metadata": {
        "colab": {
          "base_uri": "https://localhost:8080/"
        },
        "id": "VXyoaj1DD5MI",
        "outputId": "450e9b4b-3104-46ad-b9b6-959541b04b1b"
      },
      "source": [
        "# Filter by price on certain columns\n",
        "vine_df.filter(\"total_votes=20\").select([\"review_id\", \"star_rating\", \"helpful_votes\", \"total_votes\", \"vine\", \"verified_purchase\"]).show(5)"
      ],
      "execution_count": 7,
      "outputs": [
        {
          "output_type": "stream",
          "name": "stdout",
          "text": [
            "+--------------+-----------+-------------+-----------+----+-----------------+\n",
            "|     review_id|star_rating|helpful_votes|total_votes|vine|verified_purchase|\n",
            "+--------------+-----------+-------------+-----------+----+-----------------+\n",
            "|R1RTIKR8HWSJYQ|          1|            0|         20|   N|                N|\n",
            "| R60GI4Z1CNGGV|          5|           17|         20|   N|                Y|\n",
            "| RYJVJ765QAQJW|          1|           14|         20|   N|                N|\n",
            "|R18YE5XIUB40P9|          5|           18|         20|   N|                Y|\n",
            "|R18UIVCYVG6HKQ|          3|           13|         20|   N|                N|\n",
            "+--------------+-----------+-------------+-----------+----+-----------------+\n",
            "only showing top 5 rows\n",
            "\n"
          ]
        }
      ]
    },
    {
      "cell_type": "code",
      "metadata": {
        "colab": {
          "base_uri": "https://localhost:8080/"
        },
        "id": "-uEOGirBEQ1J",
        "outputId": "9f90e4da-dea4-43db-81fc-81dc8d656d13"
      },
      "source": [
        "helpful_filter_df = vine_df.filter(\"helpful_votes/total_votes >= .50\")\n",
        "helpful_filter_df.show()"
      ],
      "execution_count": 8,
      "outputs": [
        {
          "output_type": "stream",
          "name": "stdout",
          "text": [
            "+--------------+-----------+-------------+-----------+----+-----------------+\n",
            "|     review_id|star_rating|helpful_votes|total_votes|vine|verified_purchase|\n",
            "+--------------+-----------+-------------+-----------+----+-----------------+\n",
            "|R23H79DHOZTYAU|          1|            1|          1|   N|                Y|\n",
            "|R3AACSKX1EAHUY|          5|            1|          1|   N|                Y|\n",
            "|R1FJWU0IJ4KUT4|          1|            5|          5|   N|                Y|\n",
            "|R23HC6NMA3HBPS|          5|            1|          1|   N|                N|\n",
            "| R8HD4KOH8L0A6|          5|            1|          2|   N|                Y|\n",
            "|R3DCTXDTB028VH|          5|            3|          4|   N|                Y|\n",
            "| R4PKAZRQJJX14|          1|           21|         34|   N|                N|\n",
            "|R2NCZ6CIHAWH28|          5|            1|          1|   N|                Y|\n",
            "|R2CI0Y288CC7E2|          1|           21|         35|   N|                Y|\n",
            "| RXJ4RXVZNQQMK|          1|            1|          1|   N|                Y|\n",
            "|R3I2LMGRW1CNE5|          5|            2|          2|   N|                N|\n",
            "| RFPA1A1M29NFW|          2|            2|          2|   N|                Y|\n",
            "|R2OD8EZROTQ6EB|          5|           16|         17|   N|                Y|\n",
            "|R1OJ3A44G2PPBF|          5|            1|          1|   N|                Y|\n",
            "| RGBKYX5BT3CUQ|          5|            2|          2|   N|                Y|\n",
            "|R20R33LR5C3K9I|          5|            1|          1|   N|                N|\n",
            "|R1SUO3U2JC9N2Z|          1|            1|          1|   N|                Y|\n",
            "|R1KXISXI37XT53|          5|            2|          2|   N|                N|\n",
            "|R1XBH031J4CAO3|          1|           13|         15|   N|                N|\n",
            "|R3KHHUOLMQJJ3O|          2|            3|          4|   N|                Y|\n",
            "+--------------+-----------+-------------+-----------+----+-----------------+\n",
            "only showing top 20 rows\n",
            "\n"
          ]
        }
      ]
    },
    {
      "cell_type": "code",
      "metadata": {
        "colab": {
          "base_uri": "https://localhost:8080/"
        },
        "id": "gwGTYBYrFANA",
        "outputId": "135c9ec7-cb22-4a7f-a314-d7c4aa378538"
      },
      "source": [
        "vine_paid_df = helpful_filter_df.filter(helpful_filter_df[\"vine\"] == \"Y\")\n",
        "vine_paid_df.show()"
      ],
      "execution_count": 9,
      "outputs": [
        {
          "output_type": "stream",
          "name": "stdout",
          "text": [
            "+--------------+-----------+-------------+-----------+----+-----------------+\n",
            "|     review_id|star_rating|helpful_votes|total_votes|vine|verified_purchase|\n",
            "+--------------+-----------+-------------+-----------+----+-----------------+\n",
            "| RWKQQPG100CQ4|          4|            2|          4|   Y|                N|\n",
            "|R1R0J8S1VGALUY|          1|            1|          2|   Y|                N|\n",
            "|R28165EG0N9CSN|          4|            1|          2|   Y|                N|\n",
            "|R1CH0ZXGIMVEFC|          5|            1|          2|   Y|                N|\n",
            "|R2BFEJHEKH4YWZ|          5|            3|          4|   Y|                N|\n",
            "| RYIG0BYEZP7WM|          2|            1|          1|   Y|                N|\n",
            "|R20FZQEZM1277P|          4|            2|          4|   Y|                N|\n",
            "| RSAY2UB0IHC0L|          4|            4|          6|   Y|                N|\n",
            "| RQKQVDDOKW5MU|          5|            4|          5|   Y|                N|\n",
            "|R379LKZSA2PFOZ|          4|            1|          2|   Y|                N|\n",
            "|R2TVQOB3FYAME9|          2|            1|          1|   Y|                N|\n",
            "|R2OSZO2NM1608L|          5|            1|          2|   Y|                N|\n",
            "|R1DNEU1CRDJN8P|          4|            1|          2|   Y|                N|\n",
            "|R108YXX9X92XRQ|          5|            1|          1|   Y|                N|\n",
            "|R2V79E107ZJVV4|          4|            1|          2|   Y|                N|\n",
            "|R2VYABI74UEQ4F|          5|            1|          2|   Y|                N|\n",
            "|R2Y15T6WPLDV46|          4|            1|          2|   Y|                N|\n",
            "|R2JP6QHEN96VR5|          3|            5|          7|   Y|                N|\n",
            "|R3Q7SAPU3YYY17|          4|            1|          2|   Y|                N|\n",
            "| RUXMPFRUGGJUA|          4|            1|          2|   Y|                N|\n",
            "+--------------+-----------+-------------+-----------+----+-----------------+\n",
            "only showing top 20 rows\n",
            "\n"
          ]
        }
      ]
    },
    {
      "cell_type": "code",
      "metadata": {
        "colab": {
          "base_uri": "https://localhost:8080/"
        },
        "id": "CMAFVZvQH-qZ",
        "outputId": "ff481bd3-a3aa-4444-db75-741f76e250e9"
      },
      "source": [
        "vine_paid_review_count = vine_paid_df.count()\n",
        "print(vine_paid_review_count)"
      ],
      "execution_count": 10,
      "outputs": [
        {
          "output_type": "stream",
          "name": "stdout",
          "text": [
            "1757\n"
          ]
        }
      ]
    },
    {
      "cell_type": "code",
      "metadata": {
        "colab": {
          "base_uri": "https://localhost:8080/"
        },
        "id": "PBIRgu5DGOm_",
        "outputId": "f19e153f-dcca-4a21-f872-dea6e844cd15"
      },
      "source": [
        "vine_unpaid_df = helpful_filter_df.filter(helpful_filter_df[\"vine\"] == \"N\")\n",
        "vine_unpaid_df.show()"
      ],
      "execution_count": 11,
      "outputs": [
        {
          "output_type": "stream",
          "name": "stdout",
          "text": [
            "+--------------+-----------+-------------+-----------+----+-----------------+\n",
            "|     review_id|star_rating|helpful_votes|total_votes|vine|verified_purchase|\n",
            "+--------------+-----------+-------------+-----------+----+-----------------+\n",
            "|R23H79DHOZTYAU|          1|            1|          1|   N|                Y|\n",
            "|R3AACSKX1EAHUY|          5|            1|          1|   N|                Y|\n",
            "|R1FJWU0IJ4KUT4|          1|            5|          5|   N|                Y|\n",
            "|R23HC6NMA3HBPS|          5|            1|          1|   N|                N|\n",
            "| R8HD4KOH8L0A6|          5|            1|          2|   N|                Y|\n",
            "|R3DCTXDTB028VH|          5|            3|          4|   N|                Y|\n",
            "| R4PKAZRQJJX14|          1|           21|         34|   N|                N|\n",
            "|R2NCZ6CIHAWH28|          5|            1|          1|   N|                Y|\n",
            "|R2CI0Y288CC7E2|          1|           21|         35|   N|                Y|\n",
            "| RXJ4RXVZNQQMK|          1|            1|          1|   N|                Y|\n",
            "|R3I2LMGRW1CNE5|          5|            2|          2|   N|                N|\n",
            "| RFPA1A1M29NFW|          2|            2|          2|   N|                Y|\n",
            "|R2OD8EZROTQ6EB|          5|           16|         17|   N|                Y|\n",
            "|R1OJ3A44G2PPBF|          5|            1|          1|   N|                Y|\n",
            "| RGBKYX5BT3CUQ|          5|            2|          2|   N|                Y|\n",
            "|R20R33LR5C3K9I|          5|            1|          1|   N|                N|\n",
            "|R1SUO3U2JC9N2Z|          1|            1|          1|   N|                Y|\n",
            "|R1KXISXI37XT53|          5|            2|          2|   N|                N|\n",
            "|R1XBH031J4CAO3|          1|           13|         15|   N|                N|\n",
            "|R3KHHUOLMQJJ3O|          2|            3|          4|   N|                Y|\n",
            "+--------------+-----------+-------------+-----------+----+-----------------+\n",
            "only showing top 20 rows\n",
            "\n"
          ]
        }
      ]
    },
    {
      "cell_type": "code",
      "metadata": {
        "colab": {
          "base_uri": "https://localhost:8080/"
        },
        "id": "QkQVj4Z3P9ci",
        "outputId": "000f5231-6d44-4b76-fa73-10a554205f2d"
      },
      "source": [
        "vine_unpaid_review_count = vine_unpaid_df.count()\n",
        "print(vine_unpaid_review_count)"
      ],
      "execution_count": 12,
      "outputs": [
        {
          "output_type": "stream",
          "name": "stdout",
          "text": [
            "572411\n"
          ]
        }
      ]
    },
    {
      "cell_type": "code",
      "metadata": {
        "colab": {
          "base_uri": "https://localhost:8080/"
        },
        "id": "fpyRnNonIE3p",
        "outputId": "a539a90f-aba1-4b11-e9fc-9a8bcebd953e"
      },
      "source": [
        "vine_unpaid_5star = vine_unpaid_df.filter(vine_unpaid_df[\"star_rating\"] == \"5\").count()\n",
        "print(vine_unpaid_5star)\n"
      ],
      "execution_count": 13,
      "outputs": [
        {
          "output_type": "stream",
          "name": "stdout",
          "text": [
            "291135\n"
          ]
        }
      ]
    },
    {
      "cell_type": "code",
      "metadata": {
        "colab": {
          "base_uri": "https://localhost:8080/"
        },
        "id": "O1FhHVGRJlKi",
        "outputId": "476d3cdd-22ac-4e8c-c45a-254098c3b2c4"
      },
      "source": [
        "vine_paid_5star = vine_paid_df.filter(vine_paid_df[\"star_rating\"] == \"5\").count()\n",
        "print(vine_paid_5star)"
      ],
      "execution_count": 14,
      "outputs": [
        {
          "output_type": "stream",
          "name": "stdout",
          "text": [
            "700\n"
          ]
        }
      ]
    },
    {
      "cell_type": "code",
      "metadata": {
        "colab": {
          "base_uri": "https://localhost:8080/"
        },
        "id": "C25uYfa-TrTD",
        "outputId": "698e5d76-039e-4961-d2eb-7cee3d7d9cb2"
      },
      "source": [
        "vine_unpaid_5star_percent = (vine_unpaid_5star / vine_unpaid_review_count)\n",
        "print(vine_unpaid_5star_percent)"
      ],
      "execution_count": 15,
      "outputs": [
        {
          "output_type": "stream",
          "name": "stdout",
          "text": [
            "0.5086118191299608\n"
          ]
        }
      ]
    },
    {
      "cell_type": "code",
      "metadata": {
        "colab": {
          "base_uri": "https://localhost:8080/"
        },
        "id": "UFn2w_F_WjqI",
        "outputId": "d3e6ca26-e0df-4fe9-ad7c-08d867f05f1e"
      },
      "source": [
        "vine_paid_5star_percent = (vine_paid_5star / vine_paid_review_count)\n",
        "print(vine_paid_5star_percent)"
      ],
      "execution_count": 16,
      "outputs": [
        {
          "output_type": "stream",
          "name": "stdout",
          "text": [
            "0.398406374501992\n"
          ]
        }
      ]
    },
    {
      "cell_type": "code",
      "metadata": {
        "colab": {
          "base_uri": "https://localhost:8080/"
        },
        "id": "cMnq0AJnfBpR",
        "outputId": "22dd3011-7c17-49a4-a93a-2ee4ed1f9df4"
      },
      "source": [
        "total_review_count = (vine_paid_review_count + vine_unpaid_review_count)\n",
        "print(total_review_count)"
      ],
      "execution_count": 17,
      "outputs": [
        {
          "output_type": "stream",
          "name": "stdout",
          "text": [
            "574168\n"
          ]
        }
      ]
    },
    {
      "cell_type": "code",
      "metadata": {
        "colab": {
          "base_uri": "https://localhost:8080/"
        },
        "id": "cY00DW2zcYvb",
        "outputId": "bb65177e-1944-4f40-a6ce-72162d7a34d0"
      },
      "source": [
        "print(\"Total number of reviews: %f\" % total_review_count)\n",
        "print(\"Total UNPAID reviews: %f\" % vine_unpaid_review_count)\n",
        "print(\"Total UNPAID 5 star reviews: %f\" % vine_unpaid_5star)\n",
        "print(\"Percent UNPAID 5 star reviews: %f\" % vine_unpaid_5star_percent)\n",
        "print(\"Total PAID reviews: %f\" % vine_paid_review_count) \n",
        "print(\"Total PAID 5 star reviews: %f\" % vine_paid_5star)\n",
        "print(\"Percent PAID 5 star reviews: %f\" % vine_paid_5star_percent)"
      ],
      "execution_count": 19,
      "outputs": [
        {
          "output_type": "stream",
          "name": "stdout",
          "text": [
            "Total number of reviews: 574168.000000\n",
            "Total UNPAID reviews: 572411.000000\n",
            "Total UNPAID 5 star reviews: 291135.000000\n",
            "Percent UNPAID 5 star reviews: 0.508612\n",
            "Total PAID reviews: 1757.000000\n",
            "Total PAID 5 star reviews: 700.000000\n",
            "Percent PAID 5 star reviews: 0.398406\n"
          ]
        }
      ]
    },
    {
      "cell_type": "code",
      "metadata": {
        "id": "TxJbZZdZeUJC"
      },
      "source": [
        ""
      ],
      "execution_count": null,
      "outputs": []
    }
  ]
}